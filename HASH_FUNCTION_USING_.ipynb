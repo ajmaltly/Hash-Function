{
  "nbformat": 4,
  "nbformat_minor": 0,
  "metadata": {
    "colab": {
      "name": "HASH FUNCTION USING .ipynb",
      "provenance": []
    },
    "kernelspec": {
      "name": "python3",
      "display_name": "Python 3"
    },
    "language_info": {
      "name": "python"
    }
  },
  "cells": [
    {
      "cell_type": "code",
      "execution_count": 5,
      "metadata": {
        "colab": {
          "base_uri": "https://localhost:8080/"
        },
        "id": "8lsWJX8z7EGe",
        "outputId": "c1b2b0ee-c433-47b4-f739-c424915e1afd"
      },
      "outputs": [
        {
          "output_type": "stream",
          "name": "stdout",
          "text": [
            "enter number12345678\n",
            "12345678 stored in 657 th index\n"
          ]
        }
      ],
      "source": [
        "user=int(input(\"enter number\"))\n",
        "if user>=100000:\n",
        "    st=str(user)\n",
        "    a1=st[0:3]\n",
        "    a2=st[3:len(st)]\n",
        "    if len(a2)>3:\n",
        "        a3=st[3:6]\n",
        "        a4=st[6:]\n",
        "   \n",
        "print(user,\"stored in\",int(a1)+int(a3)+int(a4),\"th index\")    \n"
      ]
    }
  ]
}