{
  "nbformat": 4,
  "nbformat_minor": 0,
  "metadata": {
    "colab": {
      "name": "Hash Function.ipynb",
      "provenance": []
    },
    "kernelspec": {
      "name": "python3",
      "display_name": "Python 3"
    },
    "language_info": {
      "name": "python"
    }
  },
  "cells": [
    {
      "cell_type": "code",
      "execution_count": 9,
      "metadata": {
        "colab": {
          "base_uri": "https://localhost:8080/"
        },
        "id": "aTFuPRzX9Y1j",
        "outputId": "4a7b3db8-7ffa-4af0-bda2-237ef68bbd89"
      },
      "outputs": [
        {
          "output_type": "stream",
          "name": "stdout",
          "text": [
            "enter key12341234\n",
            "enter size of array100\n",
            "*******METHORD*********\n",
            " 1.division\n",
            " 2.midsquare\n",
            " 3.folding\n",
            " 4.break\n",
            "enter number 1, 2 3 or 41\n",
            "12341234 stored in  34 th index\n",
            "*******METHORD*********\n",
            " 1.division\n",
            " 2.midsquare\n",
            " 3.folding\n",
            " 4.break\n",
            "enter number 1, 2 3 or 42\n",
            "12341234 stored in 56 th index\n",
            "*******METHORD*********\n",
            " 1.division\n",
            " 2.midsquare\n",
            " 3.folding\n",
            " 4.break\n",
            "enter number 1, 2 3 or 43\n",
            "12341234 stored in 569 th index\n",
            "*******METHORD*********\n",
            " 1.division\n",
            " 2.midsquare\n",
            " 3.folding\n",
            " 4.break\n",
            "enter number 1, 2 3 or 44\n",
            "**********THANK YOU************\n"
          ]
        }
      ],
      "source": [
        "user_key=int(input(\"enter key\"))\n",
        "size_array=int(input(\"enter size of array\"))\n",
        "l=[]\n",
        "while True:\n",
        "    print(\"*******METHORD*********\\n 1.division\\n 2.midsquare\\n 3.folding\\n 4.break\")\n",
        "    mtd=int(input(\"enter number 1, 2 3 or 4\"))\n",
        "    if mtd==1:\n",
        "        r=user_key%size_array\n",
        "        \n",
        "        print(user_key,\"stored in \",r,\"th index\")\n",
        "    elif mtd==2:#mid square\n",
        "        r=user_key**2\n",
        "        r_str=str(r)\n",
        "        m=len(str(r))//2\n",
        "        res=r_str[m-1:m+2]\n",
        "        \n",
        "        print(user_key,\"stored in\",int(res),\"th index\")\n",
        "\n",
        "    elif mtd==3:\n",
        "      if user_key>=100000:\n",
        "        st=str(user_key)\n",
        "        a1=st[0:3]\n",
        "        a2=st[3:len(st)]\n",
        "        if len(a2)>3:\n",
        "          a3=st[3:6]\n",
        "          a4=st[6:]\n",
        "   \n",
        "      print(user_key,\"stored in\",int(a1)+int(a3)+int(a4),\"th index\")  \n",
        "\n",
        "    else:\n",
        "      print(\"**********THANK YOU************\")\n",
        "      break\n",
        "           \n"
      ]
    }
  ]
}